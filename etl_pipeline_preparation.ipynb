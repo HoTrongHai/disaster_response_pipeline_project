{
 "cells": [
  {
   "cell_type": "markdown",
   "metadata": {
    "collapsed": true,
    "pycharm": {
     "name": "#%% md\n"
    }
   },
   "source": [
    "# ETL Pipeline Preparation\n",
    "Follow the instructions below to help you create your ETL pipeline.\n",
    "### 1. Import libraries and load datasets.\n",
    "- Import Python libraries\n",
    "- Load `messages.csv` into a dataframe and inspect the first few lines.\n",
    "- Load `categories.csv` into a dataframe and inspect the first few lines."
   ]
  },
  {
   "cell_type": "code",
   "execution_count": 16,
   "outputs": [
    {
     "data": {
      "text/plain": "          id                                            message  \\\n0          2  Weather update - a cold front from Cuba that c...   \n1          7            Is the Hurricane over or is it not over   \n2          8                    Looking for someone but no name   \n3          9  UN reports Leogane 80-90 destroyed. Only Hospi...   \n4         12  says: west side of Haiti, rest of the country ...   \n...      ...                                                ...   \n26381  30261  The training demonstrated how to enhance micro...   \n26382  30262  A suitable candidate has been selected and OCH...   \n26383  30263  Proshika, operating in Cox's Bazar municipalit...   \n26384  30264  Some 2,000 women protesting against the conduc...   \n26385  30265  A radical shift in thinking came about as a re...   \n\n                                                original   genre related  \\\n0      Un front froid se retrouve sur Cuba ce matin. ...  direct       1   \n1                     Cyclone nan fini osinon li pa fini  direct       1   \n2      Patnm, di Maryani relem pou li banm nouvel li ...  direct       1   \n3      UN reports Leogane 80-90 destroyed. Only Hospi...  direct       1   \n4      facade ouest d Haiti et le reste du pays aujou...  direct       1   \n...                                                  ...     ...     ...   \n26381                                                NaN    news       0   \n26382                                                NaN    news       0   \n26383                                                NaN    news       1   \n26384                                                NaN    news       1   \n26385                                                NaN    news       1   \n\n      request offer aid_related medical_help medical_products  ...  \\\n0           0     0           0            0                0  ...   \n1           0     0           1            0                0  ...   \n2           0     0           0            0                0  ...   \n3           1     0           1            0                1  ...   \n4           0     0           0            0                0  ...   \n...       ...   ...         ...          ...              ...  ...   \n26381       0     0           0            0                0  ...   \n26382       0     0           0            0                0  ...   \n26383       0     0           0            0                0  ...   \n26384       0     0           1            0                0  ...   \n26385       0     0           0            0                0  ...   \n\n      aid_centers other_infrastructure weather_related floods storm fire  \\\n0               0                    0               0      0     0    0   \n1               0                    0               1      0     1    0   \n2               0                    0               0      0     0    0   \n3               0                    0               0      0     0    0   \n4               0                    0               0      0     0    0   \n...           ...                  ...             ...    ...   ...  ...   \n26381           0                    0               0      0     0    0   \n26382           0                    0               0      0     0    0   \n26383           0                    0               0      0     0    0   \n26384           0                    0               0      0     0    0   \n26385           0                    0               0      0     0    0   \n\n      earthquake cold other_weather direct_report  \n0              0    0             0             0  \n1              0    0             0             0  \n2              0    0             0             0  \n3              0    0             0             0  \n4              0    0             0             0  \n...          ...  ...           ...           ...  \n26381          0    0             0             0  \n26382          0    0             0             0  \n26383          0    0             0             0  \n26384          0    0             0             0  \n26385          0    0             0             0  \n\n[26386 rows x 40 columns]",
      "text/html": "<div>\n<style scoped>\n    .dataframe tbody tr th:only-of-type {\n        vertical-align: middle;\n    }\n\n    .dataframe tbody tr th {\n        vertical-align: top;\n    }\n\n    .dataframe thead th {\n        text-align: right;\n    }\n</style>\n<table border=\"1\" class=\"dataframe\">\n  <thead>\n    <tr style=\"text-align: right;\">\n      <th></th>\n      <th>id</th>\n      <th>message</th>\n      <th>original</th>\n      <th>genre</th>\n      <th>related</th>\n      <th>request</th>\n      <th>offer</th>\n      <th>aid_related</th>\n      <th>medical_help</th>\n      <th>medical_products</th>\n      <th>...</th>\n      <th>aid_centers</th>\n      <th>other_infrastructure</th>\n      <th>weather_related</th>\n      <th>floods</th>\n      <th>storm</th>\n      <th>fire</th>\n      <th>earthquake</th>\n      <th>cold</th>\n      <th>other_weather</th>\n      <th>direct_report</th>\n    </tr>\n  </thead>\n  <tbody>\n    <tr>\n      <th>0</th>\n      <td>2</td>\n      <td>Weather update - a cold front from Cuba that c...</td>\n      <td>Un front froid se retrouve sur Cuba ce matin. ...</td>\n      <td>direct</td>\n      <td>1</td>\n      <td>0</td>\n      <td>0</td>\n      <td>0</td>\n      <td>0</td>\n      <td>0</td>\n      <td>...</td>\n      <td>0</td>\n      <td>0</td>\n      <td>0</td>\n      <td>0</td>\n      <td>0</td>\n      <td>0</td>\n      <td>0</td>\n      <td>0</td>\n      <td>0</td>\n      <td>0</td>\n    </tr>\n    <tr>\n      <th>1</th>\n      <td>7</td>\n      <td>Is the Hurricane over or is it not over</td>\n      <td>Cyclone nan fini osinon li pa fini</td>\n      <td>direct</td>\n      <td>1</td>\n      <td>0</td>\n      <td>0</td>\n      <td>1</td>\n      <td>0</td>\n      <td>0</td>\n      <td>...</td>\n      <td>0</td>\n      <td>0</td>\n      <td>1</td>\n      <td>0</td>\n      <td>1</td>\n      <td>0</td>\n      <td>0</td>\n      <td>0</td>\n      <td>0</td>\n      <td>0</td>\n    </tr>\n    <tr>\n      <th>2</th>\n      <td>8</td>\n      <td>Looking for someone but no name</td>\n      <td>Patnm, di Maryani relem pou li banm nouvel li ...</td>\n      <td>direct</td>\n      <td>1</td>\n      <td>0</td>\n      <td>0</td>\n      <td>0</td>\n      <td>0</td>\n      <td>0</td>\n      <td>...</td>\n      <td>0</td>\n      <td>0</td>\n      <td>0</td>\n      <td>0</td>\n      <td>0</td>\n      <td>0</td>\n      <td>0</td>\n      <td>0</td>\n      <td>0</td>\n      <td>0</td>\n    </tr>\n    <tr>\n      <th>3</th>\n      <td>9</td>\n      <td>UN reports Leogane 80-90 destroyed. Only Hospi...</td>\n      <td>UN reports Leogane 80-90 destroyed. Only Hospi...</td>\n      <td>direct</td>\n      <td>1</td>\n      <td>1</td>\n      <td>0</td>\n      <td>1</td>\n      <td>0</td>\n      <td>1</td>\n      <td>...</td>\n      <td>0</td>\n      <td>0</td>\n      <td>0</td>\n      <td>0</td>\n      <td>0</td>\n      <td>0</td>\n      <td>0</td>\n      <td>0</td>\n      <td>0</td>\n      <td>0</td>\n    </tr>\n    <tr>\n      <th>4</th>\n      <td>12</td>\n      <td>says: west side of Haiti, rest of the country ...</td>\n      <td>facade ouest d Haiti et le reste du pays aujou...</td>\n      <td>direct</td>\n      <td>1</td>\n      <td>0</td>\n      <td>0</td>\n      <td>0</td>\n      <td>0</td>\n      <td>0</td>\n      <td>...</td>\n      <td>0</td>\n      <td>0</td>\n      <td>0</td>\n      <td>0</td>\n      <td>0</td>\n      <td>0</td>\n      <td>0</td>\n      <td>0</td>\n      <td>0</td>\n      <td>0</td>\n    </tr>\n    <tr>\n      <th>...</th>\n      <td>...</td>\n      <td>...</td>\n      <td>...</td>\n      <td>...</td>\n      <td>...</td>\n      <td>...</td>\n      <td>...</td>\n      <td>...</td>\n      <td>...</td>\n      <td>...</td>\n      <td>...</td>\n      <td>...</td>\n      <td>...</td>\n      <td>...</td>\n      <td>...</td>\n      <td>...</td>\n      <td>...</td>\n      <td>...</td>\n      <td>...</td>\n      <td>...</td>\n      <td>...</td>\n    </tr>\n    <tr>\n      <th>26381</th>\n      <td>30261</td>\n      <td>The training demonstrated how to enhance micro...</td>\n      <td>NaN</td>\n      <td>news</td>\n      <td>0</td>\n      <td>0</td>\n      <td>0</td>\n      <td>0</td>\n      <td>0</td>\n      <td>0</td>\n      <td>...</td>\n      <td>0</td>\n      <td>0</td>\n      <td>0</td>\n      <td>0</td>\n      <td>0</td>\n      <td>0</td>\n      <td>0</td>\n      <td>0</td>\n      <td>0</td>\n      <td>0</td>\n    </tr>\n    <tr>\n      <th>26382</th>\n      <td>30262</td>\n      <td>A suitable candidate has been selected and OCH...</td>\n      <td>NaN</td>\n      <td>news</td>\n      <td>0</td>\n      <td>0</td>\n      <td>0</td>\n      <td>0</td>\n      <td>0</td>\n      <td>0</td>\n      <td>...</td>\n      <td>0</td>\n      <td>0</td>\n      <td>0</td>\n      <td>0</td>\n      <td>0</td>\n      <td>0</td>\n      <td>0</td>\n      <td>0</td>\n      <td>0</td>\n      <td>0</td>\n    </tr>\n    <tr>\n      <th>26383</th>\n      <td>30263</td>\n      <td>Proshika, operating in Cox's Bazar municipalit...</td>\n      <td>NaN</td>\n      <td>news</td>\n      <td>1</td>\n      <td>0</td>\n      <td>0</td>\n      <td>0</td>\n      <td>0</td>\n      <td>0</td>\n      <td>...</td>\n      <td>0</td>\n      <td>0</td>\n      <td>0</td>\n      <td>0</td>\n      <td>0</td>\n      <td>0</td>\n      <td>0</td>\n      <td>0</td>\n      <td>0</td>\n      <td>0</td>\n    </tr>\n    <tr>\n      <th>26384</th>\n      <td>30264</td>\n      <td>Some 2,000 women protesting against the conduc...</td>\n      <td>NaN</td>\n      <td>news</td>\n      <td>1</td>\n      <td>0</td>\n      <td>0</td>\n      <td>1</td>\n      <td>0</td>\n      <td>0</td>\n      <td>...</td>\n      <td>0</td>\n      <td>0</td>\n      <td>0</td>\n      <td>0</td>\n      <td>0</td>\n      <td>0</td>\n      <td>0</td>\n      <td>0</td>\n      <td>0</td>\n      <td>0</td>\n    </tr>\n    <tr>\n      <th>26385</th>\n      <td>30265</td>\n      <td>A radical shift in thinking came about as a re...</td>\n      <td>NaN</td>\n      <td>news</td>\n      <td>1</td>\n      <td>0</td>\n      <td>0</td>\n      <td>0</td>\n      <td>0</td>\n      <td>0</td>\n      <td>...</td>\n      <td>0</td>\n      <td>0</td>\n      <td>0</td>\n      <td>0</td>\n      <td>0</td>\n      <td>0</td>\n      <td>0</td>\n      <td>0</td>\n      <td>0</td>\n      <td>0</td>\n    </tr>\n  </tbody>\n</table>\n<p>26386 rows × 40 columns</p>\n</div>"
     },
     "execution_count": 16,
     "metadata": {},
     "output_type": "execute_result"
    }
   ],
   "source": [
    "import pandas as pd\n",
    "import numpy as np\n",
    "import re\n",
    "\n",
    "\n",
    "def load_data():\n",
    "    messages = pd.read_csv(\"./data/disaster_messages.csv\")\n",
    "    categories = pd.read_csv(\"./data/disaster_categories.csv\")\n",
    "\n",
    "    return messages, categories\n",
    "\n",
    "\n",
    "def transform_category(df_category: pd.DataFrame):\n",
    "    df_category_expanded = df_category[\"categories\"].str.split(\";\", expand=True)\n",
    "\n",
    "    def _extract_label_names(record):\n",
    "        _label_names = [re.sub('-[0-9]+', \"\", col) for col in record]\n",
    "        return _label_names\n",
    "\n",
    "    def _extract_label_values(series: pd.Series, label_name):\n",
    "        return series.apply(lambda c: c.replace(f\"{label_name}-\", \"\"))\n",
    "\n",
    "    # Get label names and set new columns\n",
    "    label_names = _extract_label_names(df_category_expanded.iloc[0])\n",
    "    df_category_expanded.columns = label_names\n",
    "\n",
    "    # Convert label values of each series into numberic\n",
    "    for label_name in label_names:\n",
    "        df_category_expanded[label_name] = _extract_label_values(df_category_expanded[label_name], label_name)\n",
    "\n",
    "\n",
    "    return pd.concat([df_category.drop(labels=['categories'], axis=1), df_category_expanded], axis=1)\n",
    "\n",
    "\n",
    "def merge_dataset(df_message, df_category):\n",
    "    return pd.merge(df_message, df_category, on=['id'])\n",
    "\n",
    "\n",
    "messages, categories = load_data()\n",
    "\n",
    "\n",
    "messages_merged = merge_dataset(messages, categories)\n",
    "\n",
    "messages_merged_trans = transform_category(messages_merged)\n",
    "\n",
    "messages_merged_trans\n"
   ],
   "metadata": {
    "collapsed": false,
    "pycharm": {
     "name": "#%%\n"
    }
   }
  },
  {
   "cell_type": "code",
   "execution_count": 17,
   "outputs": [],
   "source": [
    "def check_duplicated(_df: pd.DataFrame):\n",
    "    duplicate_rows = messages_merged_trans[messages_merged_trans.duplicated()]\n",
    "    print(f'Found {len(duplicate_rows.index)} duplicated values...')\n",
    "    print('We will removed these duplicated values...')\n",
    "\n",
    "    messages_merged_trans.drop_duplicates(inplace=True)\n",
    "\n",
    "\n"
   ],
   "metadata": {
    "collapsed": false,
    "pycharm": {
     "name": "#%%\n"
    }
   }
  },
  {
   "cell_type": "code",
   "execution_count": 18,
   "outputs": [],
   "source": [
    "from sqlalchemy import create_engine\n",
    "# engine = create_engine('sqlite://', echo=False)\n",
    "\n",
    "def save_to_db(_df: pd.DataFrame, database_name, table_name):\n",
    "    engine = create_engine(f'sqlite:///{database_name}')\n",
    "    _df.to_sql(table_name, engine, index=False)"
   ],
   "metadata": {
    "collapsed": false,
    "pycharm": {
     "name": "#%%\n"
    }
   }
  },
  {
   "cell_type": "code",
   "execution_count": 19,
   "outputs": [
    {
     "name": "stdout",
     "output_type": "stream",
     "text": [
      "Found 170 duplicated values...\n",
      "We will removed these duplicated values...\n"
     ]
    }
   ],
   "source": [
    "check_duplicated(messages_merged_trans)\n",
    "\n",
    "save_to_db(messages_merged_trans, 'disaster.db', 'message_category')"
   ],
   "metadata": {
    "collapsed": false,
    "pycharm": {
     "name": "#%%\n"
    }
   }
  },
  {
   "cell_type": "code",
   "execution_count": null,
   "outputs": [],
   "source": [],
   "metadata": {
    "collapsed": false,
    "pycharm": {
     "name": "#%%\n"
    }
   }
  }
 ],
 "metadata": {
  "kernelspec": {
   "display_name": "Python 3",
   "language": "python",
   "name": "python3"
  },
  "language_info": {
   "codemirror_mode": {
    "name": "ipython",
    "version": 2
   },
   "file_extension": ".py",
   "mimetype": "text/x-python",
   "name": "python",
   "nbconvert_exporter": "python",
   "pygments_lexer": "ipython2",
   "version": "2.7.6"
  }
 },
 "nbformat": 4,
 "nbformat_minor": 0
}